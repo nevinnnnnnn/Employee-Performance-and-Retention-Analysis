{
 "cells": [
  {
   "cell_type": "code",
   "execution_count": null,
   "id": "93ee2359-2c3b-4749-803c-428717fe7494",
   "metadata": {},
   "outputs": [],
   "source": [
    "# Import Required Libraries\n",
    "import pandas as pd\n",
    "import numpy as np\n",
    "\n",
    "# Load Dataset\n",
    "df = pd.read_csv('Employee_data.csv')  # Make sure the CSV is in the same folder\n",
    "\n",
    "# Display first 5 rows\n",
    "df.head()"
   ]
  },
  {
   "cell_type": "code",
   "execution_count": null,
   "id": "328679d8-e775-40bf-a192-2cdeac95c86b",
   "metadata": {},
   "outputs": [],
   "source": [
    "# Dataset Info\n",
    "df.info()\n",
    "\n",
    "# Shape of the dataset\n",
    "print(f\"Dataset contains {df.shape[0]} rows and {df.shape[1]} columns.\")"
   ]
  },
  {
   "cell_type": "code",
   "execution_count": null,
   "id": "97405a23-5f3e-4c96-bc59-3272c2cc198d",
   "metadata": {},
   "outputs": [],
   "source": [
    "# Check for missing values\n",
    "print(\"Missing Values:\")\n",
    "print(df.isnull().sum())\n",
    "\n",
    "# Handle missing values - Example: fill or drop\n",
    "df.dropna(inplace=True)  # OR use df.fillna(method='ffill', inplace=True)\n",
    "\n",
    "# Remove duplicates\n",
    "df.drop_duplicates(inplace=True)\n",
    "\n",
    "# Clean inconsistent data (if required)\n",
    "# Example: df['Department'] = df['Department'].str.strip().str.title()"
   ]
  },
  {
   "cell_type": "code",
   "execution_count": null,
   "id": "fe988dd0-1d9d-4707-8116-db5e7021bef5",
   "metadata": {},
   "outputs": [],
   "source": [
    "# Descriptive Statistics\n",
    "print(\"Descriptive Statistics:\")\n",
    "print(df.describe())\n",
    "\n",
    "# Mode for categorical variables\n",
    "print(\"\\nMode for Categorical Features:\")\n",
    "print(df.select_dtypes(include='object').mode().iloc[0])"
   ]
  },
  {
   "cell_type": "code",
   "execution_count": null,
   "id": "f64b68d1-0bfb-4348-85ae-f1f67d906969",
   "metadata": {},
   "outputs": [],
   "source": [
    "# Import Visualization Libraries\n",
    "import matplotlib.pyplot as plt\n",
    "import seaborn as sns"
   ]
  },
  {
   "cell_type": "code",
   "execution_count": null,
   "id": "a2fffc26-20a7-424a-b666-3641003da446",
   "metadata": {},
   "outputs": [],
   "source": [
    "# Pairplot - Explore feature relationships\n",
    "sns.pairplot(df.select_dtypes(include=['int64', 'float64']))\n",
    "plt.suptitle(\"Pairplot of Numerical Features\", y=1.02)\n",
    "plt.show()"
   ]
  },
  {
   "cell_type": "code",
   "execution_count": null,
   "id": "5f04242a-4bce-41ff-9170-f25dd73790a3",
   "metadata": {},
   "outputs": [],
   "source": [
    "# Import Visualization Libraries\n",
    "import matplotlib.pyplot as plt\n",
    "import seaborn as sns\n",
    "\n",
    "# Pairplot - Explore feature relationships\n",
    "sns.pairplot(df.select_dtypes(include=['int64', 'float64']))\n",
    "plt.suptitle(\"Pairplot of Numerical Features\", y=1.02)\n",
    "plt.show()"
   ]
  }
 ],
 "metadata": {
  "kernelspec": {
   "display_name": "Python 3 (ipykernel)",
   "language": "python",
   "name": "python3"
  },
  "language_info": {
   "codemirror_mode": {
    "name": "ipython",
    "version": 3
   },
   "file_extension": ".py",
   "mimetype": "text/x-python",
   "name": "python",
   "nbconvert_exporter": "python",
   "pygments_lexer": "ipython3",
   "version": "3.12.7"
  }
 },
 "nbformat": 4,
 "nbformat_minor": 5
}
